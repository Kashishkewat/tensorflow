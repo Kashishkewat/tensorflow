{
  "nbformat": 4,
  "nbformat_minor": 0,
  "metadata": {
    "colab": {
      "provenance": [],
      "authorship_tag": "ABX9TyOO5bkXVFIYz6j+Jr55VUPA",
      "include_colab_link": true
    },
    "kernelspec": {
      "name": "python3",
      "display_name": "Python 3"
    },
    "language_info": {
      "name": "python"
    }
  },
  "cells": [
    {
      "cell_type": "markdown",
      "metadata": {
        "id": "view-in-github",
        "colab_type": "text"
      },
      "source": [
        "<a href=\"https://colab.research.google.com/github/Kashishkewat/tensorflow/blob/main/Untitled0.ipynb\" target=\"_parent\"><img src=\"https://colab.research.google.com/assets/colab-badge.svg\" alt=\"Open In Colab\"/></a>"
      ]
    },
    {
      "cell_type": "code",
      "execution_count": null,
      "metadata": {
        "id": "AOvmEfQHv7V5"
      },
      "outputs": [],
      "source": [
        "import tensorflow as tf\n",
        "con1=tf.constant(10)\n",
        "con1\n"
      ]
    },
    {
      "cell_type": "code",
      "source": [
        "con2=tf.constant(12.3)\n",
        "con2"
      ],
      "metadata": {
        "id": "oSbxV7-vwTpJ"
      },
      "execution_count": null,
      "outputs": []
    },
    {
      "cell_type": "code",
      "source": [],
      "metadata": {
        "id": "yY-TUeRYwlcj"
      },
      "execution_count": null,
      "outputs": []
    },
    {
      "cell_type": "code",
      "source": [
        "con3=tf.constant(\"hello kashish\")\n",
        "con3"
      ],
      "metadata": {
        "id": "gql4JIbAwemx"
      },
      "execution_count": null,
      "outputs": []
    },
    {
      "cell_type": "code",
      "source": [
        "con4=tf.constant(True)\n",
        "con4"
      ],
      "metadata": {
        "id": "vG93btmhwsox"
      },
      "execution_count": null,
      "outputs": []
    },
    {
      "cell_type": "code",
      "source": [
        "import numpy as np\n",
        "con5=tf.constant(np.array([1,2,3,4]))\n",
        "con5"
      ],
      "metadata": {
        "id": "xCHLzMR4w10L"
      },
      "execution_count": null,
      "outputs": []
    },
    {
      "cell_type": "code",
      "source": [
        "con6=tf.constant([[1,2,4],[3,4,5]])\n",
        "con6"
      ],
      "metadata": {
        "id": "kBDXubBlxF54"
      },
      "execution_count": null,
      "outputs": []
    },
    {
      "cell_type": "code",
      "source": [
        "con7=tf.constant([1,2,3,4,5,6],shape=(2,3),dtype=\"float32\")\n",
        "con7"
      ],
      "metadata": {
        "id": "1ZqTIgmcxV_p"
      },
      "execution_count": null,
      "outputs": []
    },
    {
      "cell_type": "code",
      "source": [
        "con8=tf.constant([[[1,2],[2,3],[3,4]]],dtype=\"float32\")\n",
        "con8\n"
      ],
      "metadata": {
        "id": "KDKh6OAsyPBK"
      },
      "execution_count": null,
      "outputs": []
    },
    {
      "cell_type": "code",
      "source": [
        "type(con8)"
      ],
      "metadata": {
        "id": "l20BEEr8ywLK"
      },
      "execution_count": null,
      "outputs": []
    },
    {
      "cell_type": "code",
      "source": [
        "con8.shape\n",
        "con7.shape"
      ],
      "metadata": {
        "id": "TPDuNIpby4OV"
      },
      "execution_count": null,
      "outputs": []
    },
    {
      "cell_type": "code",
      "source": [
        "con8.numpy()"
      ],
      "metadata": {
        "id": "ujaga_bUzLH7"
      },
      "execution_count": null,
      "outputs": []
    },
    {
      "cell_type": "code",
      "source": [
        "con8.dtype"
      ],
      "metadata": {
        "id": "6z9OabAhzZKt"
      },
      "execution_count": null,
      "outputs": []
    },
    {
      "cell_type": "code",
      "source": [
        "con7.numpy()[1,1]"
      ],
      "metadata": {
        "id": "VytXfn-30Gq0"
      },
      "execution_count": null,
      "outputs": []
    },
    {
      "cell_type": "code",
      "source": [],
      "metadata": {
        "id": "W8o2lRGm0vMW"
      },
      "execution_count": null,
      "outputs": []
    }
  ]
}