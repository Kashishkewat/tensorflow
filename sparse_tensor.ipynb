{
  "nbformat": 4,
  "nbformat_minor": 0,
  "metadata": {
    "colab": {
      "provenance": [],
      "authorship_tag": "ABX9TyNnDYozTEnJXcAu1YVHMUvM",
      "include_colab_link": true
    },
    "kernelspec": {
      "name": "python3",
      "display_name": "Python 3"
    },
    "language_info": {
      "name": "python"
    }
  },
  "cells": [
    {
      "cell_type": "markdown",
      "metadata": {
        "id": "view-in-github",
        "colab_type": "text"
      },
      "source": [
        "<a href=\"https://colab.research.google.com/github/Kashishkewat/tensorflow/blob/main/sparse_tensor.ipynb\" target=\"_parent\"><img src=\"https://colab.research.google.com/assets/colab-badge.svg\" alt=\"Open In Colab\"/></a>"
      ]
    },
    {
      "cell_type": "markdown",
      "source": [
        "# **Sparse** **tensor**"
      ],
      "metadata": {
        "id": "_RENqRRboKrB"
      }
    },
    {
      "cell_type": "code",
      "source": [
        "import tensorflow as tf"
      ],
      "metadata": {
        "id": "Ztr_DSvnnh9L"
      },
      "execution_count": 4,
      "outputs": []
    },
    {
      "cell_type": "markdown",
      "source": [
        "# **create** **tensorflow** **sparse** **tensor**"
      ],
      "metadata": {
        "id": "uuSXqBHTpJqh"
      }
    },
    {
      "cell_type": "code",
      "source": [
        "st1=tf.SparseTensor(indices=[[0,3],[2,4]],values=[10,20],dense_shape=[3,10])\n",
        "st1"
      ],
      "metadata": {
        "colab": {
          "base_uri": "https://localhost:8080/"
        },
        "id": "2iqUFUrxpTaP",
        "outputId": "bfb46ad5-3715-4067-ea01-dab88a4b2c42"
      },
      "execution_count": 5,
      "outputs": [
        {
          "output_type": "execute_result",
          "data": {
            "text/plain": [
              "SparseTensor(indices=tf.Tensor(\n",
              "[[0 3]\n",
              " [2 4]], shape=(2, 2), dtype=int64), values=tf.Tensor([10 20], shape=(2,), dtype=int32), dense_shape=tf.Tensor([ 3 10], shape=(2,), dtype=int64))"
            ]
          },
          "metadata": {},
          "execution_count": 5
        }
      ]
    },
    {
      "cell_type": "code",
      "source": [
        "print(st1)"
      ],
      "metadata": {
        "colab": {
          "base_uri": "https://localhost:8080/"
        },
        "id": "ygDyYKhsWwP8",
        "outputId": "a84ecbe4-7c3c-41bb-e7b8-dd906cb43d87"
      },
      "execution_count": 7,
      "outputs": [
        {
          "output_type": "stream",
          "name": "stdout",
          "text": [
            "SparseTensor(indices=tf.Tensor(\n",
            "[[0 3]\n",
            " [2 4]], shape=(2, 2), dtype=int64), values=tf.Tensor([10 20], shape=(2,), dtype=int32), dense_shape=tf.Tensor([ 3 10], shape=(2,), dtype=int64))\n"
          ]
        }
      ]
    },
    {
      "cell_type": "markdown",
      "source": [
        "## **# create sparse tensor from dense**"
      ],
      "metadata": {
        "id": "fMO7cF_PXivH"
      }
    },
    {
      "cell_type": "code",
      "source": [
        "import numpy as np"
      ],
      "metadata": {
        "id": "Y4FnuDTLW9Rg"
      },
      "execution_count": 9,
      "outputs": []
    },
    {
      "cell_type": "code",
      "source": [
        "np_array=np.array([[1,0,0,0],\n",
        "                  [0,0,1,0],\n",
        "                  [0,1,0,0],\n",
        "                  [0,1,0,0]])\n",
        "np_array"
      ],
      "metadata": {
        "colab": {
          "base_uri": "https://localhost:8080/"
        },
        "id": "UITkkgaoXy98",
        "outputId": "8a8e21b0-4d79-435c-ff64-fda4e062d1c4"
      },
      "execution_count": 12,
      "outputs": [
        {
          "output_type": "execute_result",
          "data": {
            "text/plain": [
              "array([[1, 0, 0, 0],\n",
              "       [0, 0, 1, 0],\n",
              "       [0, 1, 0, 0],\n",
              "       [0, 1, 0, 0]])"
            ]
          },
          "metadata": {},
          "execution_count": 12
        }
      ]
    },
    {
      "cell_type": "code",
      "source": [
        "st2_fd=tf.sparse.from_dense(np_array)"
      ],
      "metadata": {
        "id": "kbWOQe1TYapm"
      },
      "execution_count": 15,
      "outputs": []
    },
    {
      "cell_type": "code",
      "source": [
        "print(st2_fd)"
      ],
      "metadata": {
        "colab": {
          "base_uri": "https://localhost:8080/"
        },
        "id": "jnTjO881Yh8x",
        "outputId": "0f8d003d-ec1a-40c0-d3cf-f39659d0433a"
      },
      "execution_count": 16,
      "outputs": [
        {
          "output_type": "stream",
          "name": "stdout",
          "text": [
            "SparseTensor(indices=tf.Tensor(\n",
            "[[0 0]\n",
            " [1 2]\n",
            " [2 1]\n",
            " [3 1]], shape=(4, 2), dtype=int64), values=tf.Tensor([1 1 1 1], shape=(4,), dtype=int64), dense_shape=tf.Tensor([4 4], shape=(2,), dtype=int64))\n"
          ]
        }
      ]
    },
    {
      "cell_type": "markdown",
      "source": [
        "# **extract te values ,indices & shape of sparse tensor**"
      ],
      "metadata": {
        "id": "v0YwyxzXZoaY"
      }
    },
    {
      "cell_type": "code",
      "source": [
        "st2_fd.values.numpy().tolist()"
      ],
      "metadata": {
        "colab": {
          "base_uri": "https://localhost:8080/"
        },
        "id": "IdOgGCTZZz6f",
        "outputId": "709f9bcc-bdb0-4321-b910-d48d4d944238"
      },
      "execution_count": 17,
      "outputs": [
        {
          "output_type": "execute_result",
          "data": {
            "text/plain": [
              "[1, 1, 1, 1]"
            ]
          },
          "metadata": {},
          "execution_count": 17
        }
      ]
    },
    {
      "cell_type": "code",
      "source": [
        "st2_fd.indices.numpy().tolist()"
      ],
      "metadata": {
        "colab": {
          "base_uri": "https://localhost:8080/"
        },
        "id": "EyFcUO3gZ9od",
        "outputId": "5790b098-084f-45fd-9683-05654232fd19"
      },
      "execution_count": 18,
      "outputs": [
        {
          "output_type": "execute_result",
          "data": {
            "text/plain": [
              "[[0, 0], [1, 2], [2, 1], [3, 1]]"
            ]
          },
          "metadata": {},
          "execution_count": 18
        }
      ]
    },
    {
      "cell_type": "code",
      "source": [
        "st2_fd.dense_shape.numpy()"
      ],
      "metadata": {
        "colab": {
          "base_uri": "https://localhost:8080/"
        },
        "id": "9LSi3TkJaS56",
        "outputId": "e7dd7fbf-83c9-44c6-9f3f-8aa7279b4a60"
      },
      "execution_count": 20,
      "outputs": [
        {
          "output_type": "execute_result",
          "data": {
            "text/plain": [
              "array([4, 4])"
            ]
          },
          "metadata": {},
          "execution_count": 20
        }
      ]
    },
    {
      "cell_type": "markdown",
      "source": [
        "# **# sparse tensor to Dense**"
      ],
      "metadata": {
        "id": "yZPrqJvfafyR"
      }
    },
    {
      "cell_type": "code",
      "source": [
        "dt_fst=tf.sparse.to_dense(st2_fd)\n",
        "dt_fst"
      ],
      "metadata": {
        "colab": {
          "base_uri": "https://localhost:8080/"
        },
        "id": "xDvRDA1EapPb",
        "outputId": "4ba540ec-4d57-48a8-c26c-361edaf04893"
      },
      "execution_count": 23,
      "outputs": [
        {
          "output_type": "execute_result",
          "data": {
            "text/plain": [
              "<tf.Tensor: shape=(4, 4), dtype=int64, numpy=\n",
              "array([[1, 0, 0, 0],\n",
              "       [0, 0, 1, 0],\n",
              "       [0, 1, 0, 0],\n",
              "       [0, 1, 0, 0]])>"
            ]
          },
          "metadata": {},
          "execution_count": 23
        }
      ]
    },
    {
      "cell_type": "markdown",
      "source": [
        "# **mathematical operation on sparse tensor**"
      ],
      "metadata": {
        "id": "ixdnVKYBbqmM"
      }
    },
    {
      "cell_type": "code",
      "source": [
        "st_add=tf.sparse.add(st2_fd,st2_fd)\n",
        "st_add"
      ],
      "metadata": {
        "colab": {
          "base_uri": "https://localhost:8080/"
        },
        "id": "uQBxjA0ZamN4",
        "outputId": "7c1b4707-7ad9-4ce8-8794-a20086b53e94"
      },
      "execution_count": 25,
      "outputs": [
        {
          "output_type": "execute_result",
          "data": {
            "text/plain": [
              "SparseTensor(indices=tf.Tensor(\n",
              "[[0 0]\n",
              " [1 2]\n",
              " [2 1]\n",
              " [3 1]], shape=(4, 2), dtype=int64), values=tf.Tensor([2 2 2 2], shape=(4,), dtype=int64), dense_shape=tf.Tensor([4 4], shape=(2,), dtype=int64))"
            ]
          },
          "metadata": {},
          "execution_count": 25
        }
      ]
    },
    {
      "cell_type": "code",
      "source": [
        "tf.sparse.to_dense(st_add).numpy()"
      ],
      "metadata": {
        "colab": {
          "base_uri": "https://localhost:8080/"
        },
        "id": "zN1dB1aGcWdx",
        "outputId": "7b1c9051-0afe-4579-eae9-e5fca9a285e0"
      },
      "execution_count": 26,
      "outputs": [
        {
          "output_type": "execute_result",
          "data": {
            "text/plain": [
              "array([[2, 0, 0, 0],\n",
              "       [0, 0, 2, 0],\n",
              "       [0, 2, 0, 0],\n",
              "       [0, 2, 0, 0]])"
            ]
          },
          "metadata": {},
          "execution_count": 26
        }
      ]
    }
  ]
}