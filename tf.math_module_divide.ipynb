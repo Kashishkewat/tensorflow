{
  "nbformat": 4,
  "nbformat_minor": 0,
  "metadata": {
    "colab": {
      "provenance": [],
      "authorship_tag": "ABX9TyMkoBiY0keZTm1DiUyXO6RB",
      "include_colab_link": true
    },
    "kernelspec": {
      "name": "python3",
      "display_name": "Python 3"
    },
    "language_info": {
      "name": "python"
    }
  },
  "cells": [
    {
      "cell_type": "markdown",
      "metadata": {
        "id": "view-in-github",
        "colab_type": "text"
      },
      "source": [
        "<a href=\"https://colab.research.google.com/github/Kashishkewat/tensorflow/blob/main/tf.math_module_divide.ipynb\" target=\"_parent\"><img src=\"https://colab.research.google.com/assets/colab-badge.svg\" alt=\"Open In Colab\"/></a>"
      ]
    },
    {
      "cell_type": "markdown",
      "source": [
        "# **tf.divide**"
      ],
      "metadata": {
        "id": "GWuVpEfi87_V"
      }
    },
    {
      "cell_type": "code",
      "execution_count": 1,
      "metadata": {
        "id": "09HmbPhJ785j"
      },
      "outputs": [],
      "source": [
        "import tensorflow as tf\n",
        "import numpy as np\n"
      ]
    },
    {
      "cell_type": "markdown",
      "source": [
        "# **tf.divide with scaler tensor**"
      ],
      "metadata": {
        "id": "EFMHw0EB9ZRz"
      }
    },
    {
      "cell_type": "code",
      "source": [
        "a=20\n",
        "b=10\n",
        "tf.divide(a,b)"
      ],
      "metadata": {
        "colab": {
          "base_uri": "https://localhost:8080/"
        },
        "id": "Y6M9oCUF9iyx",
        "outputId": "5615fb51-e794-423a-8439-05f111f1401a"
      },
      "execution_count": 2,
      "outputs": [
        {
          "output_type": "execute_result",
          "data": {
            "text/plain": [
              "<tf.Tensor: shape=(), dtype=float64, numpy=2.0>"
            ]
          },
          "metadata": {},
          "execution_count": 2
        }
      ]
    },
    {
      "cell_type": "markdown",
      "source": [
        "# **divide 2 list/tuple**"
      ],
      "metadata": {
        "id": "XA9jq74e9vWv"
      }
    },
    {
      "cell_type": "code",
      "source": [
        "l1=[1,2,3,5]\n",
        "l2=[2,3,4,5]\n",
        "tf.divide(l2,l1)"
      ],
      "metadata": {
        "colab": {
          "base_uri": "https://localhost:8080/"
        },
        "id": "fgTZ25mD95YX",
        "outputId": "6e413561-1836-447c-9ed3-d3f2ea48d706"
      },
      "execution_count": 3,
      "outputs": [
        {
          "output_type": "execute_result",
          "data": {
            "text/plain": [
              "<tf.Tensor: shape=(4,), dtype=float64, numpy=array([2.        , 1.5       , 1.33333333, 1.        ])>"
            ]
          },
          "metadata": {},
          "execution_count": 3
        }
      ]
    },
    {
      "cell_type": "code",
      "source": [
        "t1=(1,2,3,4)\n",
        "t2=(4,3,2,2)\n",
        "tf.divide(t1,t2)"
      ],
      "metadata": {
        "colab": {
          "base_uri": "https://localhost:8080/"
        },
        "id": "hoc8pJqg_toQ",
        "outputId": "a41fed3f-891d-4649-fc18-7dd078496a0f"
      },
      "execution_count": 4,
      "outputs": [
        {
          "output_type": "execute_result",
          "data": {
            "text/plain": [
              "<tf.Tensor: shape=(4,), dtype=float64, numpy=array([0.25      , 0.66666667, 1.5       , 2.        ])>"
            ]
          },
          "metadata": {},
          "execution_count": 4
        }
      ]
    },
    {
      "cell_type": "markdown",
      "source": [
        "# **divide list/tuple with scaler value**"
      ],
      "metadata": {
        "id": "szwUCZLBAGuZ"
      }
    },
    {
      "cell_type": "code",
      "source": [
        "l1=[12,21,39,24]\n",
        "l2=[3]\n",
        "tf.divide(l1,l2)"
      ],
      "metadata": {
        "colab": {
          "base_uri": "https://localhost:8080/"
        },
        "id": "ETQ21cjXAPK6",
        "outputId": "46d36243-e31f-4c39-c8e4-4ee90c3d753f"
      },
      "execution_count": 5,
      "outputs": [
        {
          "output_type": "execute_result",
          "data": {
            "text/plain": [
              "<tf.Tensor: shape=(4,), dtype=float64, numpy=array([ 4.,  7., 13.,  8.])>"
            ]
          },
          "metadata": {},
          "execution_count": 5
        }
      ]
    },
    {
      "cell_type": "code",
      "source": [
        "t1=(12,24,44,68)\n",
        "t2=(4)\n",
        "tf.divide(t1,t2)"
      ],
      "metadata": {
        "colab": {
          "base_uri": "https://localhost:8080/"
        },
        "id": "Mc9LCs59Afmi",
        "outputId": "7de7ad5d-b10c-4d56-e765-1bb7f194e9c3"
      },
      "execution_count": 6,
      "outputs": [
        {
          "output_type": "execute_result",
          "data": {
            "text/plain": [
              "<tf.Tensor: shape=(4,), dtype=float64, numpy=array([ 3.,  6., 11., 17.])>"
            ]
          },
          "metadata": {},
          "execution_count": 6
        }
      ]
    },
    {
      "cell_type": "markdown",
      "source": [
        "# divide constant tensor"
      ],
      "metadata": {
        "id": "I3ERHPnHAt2B"
      }
    },
    {
      "cell_type": "code",
      "source": [
        "con1=tf.constant([12,32,46])\n",
        "con2=tf.constant([2,4,4])\n",
        "tf.divide(con1,con2)"
      ],
      "metadata": {
        "colab": {
          "base_uri": "https://localhost:8080/"
        },
        "id": "LJekkTl7A8O7",
        "outputId": "ba9f4397-fb6e-4672-a3d6-c135c3ed9bb4"
      },
      "execution_count": 7,
      "outputs": [
        {
          "output_type": "execute_result",
          "data": {
            "text/plain": [
              "<tf.Tensor: shape=(3,), dtype=float64, numpy=array([ 6. ,  8. , 11.5])>"
            ]
          },
          "metadata": {},
          "execution_count": 7
        }
      ]
    },
    {
      "cell_type": "code",
      "source": [
        "con1=tf.constant([12,34,46])\n",
        "con2=tf.constant([2])\n",
        "tf.divide(con1,con2)"
      ],
      "metadata": {
        "colab": {
          "base_uri": "https://localhost:8080/"
        },
        "id": "WI1YwMxuDi4t",
        "outputId": "fc9b2a97-c452-49b9-ed41-86319ff7ba59"
      },
      "execution_count": 8,
      "outputs": [
        {
          "output_type": "execute_result",
          "data": {
            "text/plain": [
              "<tf.Tensor: shape=(3,), dtype=float64, numpy=array([ 6., 17., 23.])>"
            ]
          },
          "metadata": {},
          "execution_count": 8
        }
      ]
    },
    {
      "cell_type": "markdown",
      "source": [
        "# **divide tensor variable**"
      ],
      "metadata": {
        "id": "8IC3DQf5EV98"
      }
    },
    {
      "cell_type": "code",
      "source": [
        "vr1=tf.Variable([12,34,48])\n",
        "vr2=tf.Variable([2,4,4])\n",
        "tf.divide(vr1,vr2)"
      ],
      "metadata": {
        "colab": {
          "base_uri": "https://localhost:8080/"
        },
        "id": "FU0RSWX8EeVQ",
        "outputId": "75364652-1761-4eca-c3a6-5ee373b4c0cc"
      },
      "execution_count": 9,
      "outputs": [
        {
          "output_type": "execute_result",
          "data": {
            "text/plain": [
              "<tf.Tensor: shape=(3,), dtype=float64, numpy=array([ 6. ,  8.5, 12. ])>"
            ]
          },
          "metadata": {},
          "execution_count": 9
        }
      ]
    },
    {
      "cell_type": "code",
      "source": [
        "vr1=tf.Variable([12,34,48])\n",
        "vr2=tf.Variable([2])\n",
        "tf.divide(vr1,vr2)"
      ],
      "metadata": {
        "colab": {
          "base_uri": "https://localhost:8080/"
        },
        "id": "mNqR3-LAI0Fr",
        "outputId": "a67aff53-583c-41ae-f873-b3d984dd78e1"
      },
      "execution_count": 10,
      "outputs": [
        {
          "output_type": "execute_result",
          "data": {
            "text/plain": [
              "<tf.Tensor: shape=(3,), dtype=float64, numpy=array([ 6., 17., 24.])>"
            ]
          },
          "metadata": {},
          "execution_count": 10
        }
      ]
    }
  ]
}