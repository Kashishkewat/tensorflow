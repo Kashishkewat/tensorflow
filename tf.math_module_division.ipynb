{
  "nbformat": 4,
  "nbformat_minor": 0,
  "metadata": {
    "colab": {
      "provenance": [],
      "authorship_tag": "ABX9TyNa/Qp2ZPi8dQuHb8+a6W15",
      "include_colab_link": true
    },
    "kernelspec": {
      "name": "python3",
      "display_name": "Python 3"
    },
    "language_info": {
      "name": "python"
    }
  },
  "cells": [
    {
      "cell_type": "markdown",
      "metadata": {
        "id": "view-in-github",
        "colab_type": "text"
      },
      "source": [
        "<a href=\"https://colab.research.google.com/github/Kashishkewat/tensorflow/blob/main/tf.math_module_division.ipynb\" target=\"_parent\"><img src=\"https://colab.research.google.com/assets/colab-badge.svg\" alt=\"Open In Colab\"/></a>"
      ]
    },
    {
      "cell_type": "markdown",
      "source": [
        "## **tf.sqrt()**"
      ],
      "metadata": {
        "id": "orzilKTyO1a9"
      }
    },
    {
      "cell_type": "code",
      "source": [
        "import tensorflow as tf\n",
        "import numpy as np"
      ],
      "metadata": {
        "id": "06HpNO1bPgAe"
      },
      "execution_count": 11,
      "outputs": []
    },
    {
      "cell_type": "markdown",
      "source": [
        "# **Square Root of Scaler**"
      ],
      "metadata": {
        "id": "u_-x9keGQ_Dn"
      }
    },
    {
      "cell_type": "code",
      "source": [
        "a=9.0"
      ],
      "metadata": {
        "id": "-ex35wT1RGqY"
      },
      "execution_count": 13,
      "outputs": []
    },
    {
      "cell_type": "code",
      "source": [
        "tf.sqrt(a)"
      ],
      "metadata": {
        "colab": {
          "base_uri": "https://localhost:8080/"
        },
        "id": "unqR_Gl5RJV-",
        "outputId": "39805792-7a75-4859-b1e9-f31dd85f1d9d"
      },
      "execution_count": 14,
      "outputs": [
        {
          "output_type": "execute_result",
          "data": {
            "text/plain": [
              "<tf.Tensor: shape=(), dtype=float32, numpy=3.0>"
            ]
          },
          "metadata": {},
          "execution_count": 14
        }
      ]
    },
    {
      "cell_type": "markdown",
      "source": [
        "# **Square Root of List/Tuple**"
      ],
      "metadata": {
        "id": "61m0LtjaRQfe"
      }
    },
    {
      "cell_type": "code",
      "source": [
        "l1=[4.0,9.0,16.0]\n",
        "tf.sqrt(l1)"
      ],
      "metadata": {
        "colab": {
          "base_uri": "https://localhost:8080/"
        },
        "id": "vHjv2PBBRQGo",
        "outputId": "ebe477bb-5733-480d-84a3-4a7237cab0fd"
      },
      "execution_count": 17,
      "outputs": [
        {
          "output_type": "execute_result",
          "data": {
            "text/plain": [
              "<tf.Tensor: shape=(3,), dtype=float32, numpy=array([2., 3., 4.], dtype=float32)>"
            ]
          },
          "metadata": {},
          "execution_count": 17
        }
      ]
    },
    {
      "cell_type": "code",
      "source": [
        "t1=(4.0,9.0,16.0)\n",
        "tf.sqrt(t1)"
      ],
      "metadata": {
        "colab": {
          "base_uri": "https://localhost:8080/"
        },
        "id": "a_WPmTlISk7V",
        "outputId": "4060b1b9-ee26-4230-a864-f9582f964403"
      },
      "execution_count": 18,
      "outputs": [
        {
          "output_type": "execute_result",
          "data": {
            "text/plain": [
              "<tf.Tensor: shape=(3,), dtype=float32, numpy=array([2., 3., 4.], dtype=float32)>"
            ]
          },
          "metadata": {},
          "execution_count": 18
        }
      ]
    },
    {
      "cell_type": "markdown",
      "source": [
        "# **square Root of Numpy Array**"
      ],
      "metadata": {
        "id": "uBTFnnQWS7Tt"
      }
    },
    {
      "cell_type": "code",
      "source": [
        "npa1=np.array([4,9,16],dtype=np.float32)\n",
        "tf.sqrt(npa1)"
      ],
      "metadata": {
        "colab": {
          "base_uri": "https://localhost:8080/"
        },
        "id": "XfJSpFFNTD0b",
        "outputId": "e4b49182-f1b7-4458-872b-626c27ba26fe"
      },
      "execution_count": 19,
      "outputs": [
        {
          "output_type": "execute_result",
          "data": {
            "text/plain": [
              "<tf.Tensor: shape=(3,), dtype=float32, numpy=array([2., 3., 4.], dtype=float32)>"
            ]
          },
          "metadata": {},
          "execution_count": 19
        }
      ]
    },
    {
      "cell_type": "code",
      "source": [
        "npa1.dtype"
      ],
      "metadata": {
        "colab": {
          "base_uri": "https://localhost:8080/"
        },
        "id": "38P2jowSTzO3",
        "outputId": "1600b01d-be87-420a-af1c-068f520f761d"
      },
      "execution_count": 20,
      "outputs": [
        {
          "output_type": "execute_result",
          "data": {
            "text/plain": [
              "dtype('float32')"
            ]
          },
          "metadata": {},
          "execution_count": 20
        }
      ]
    },
    {
      "cell_type": "code",
      "source": [
        "y=np.ones(6).reshape(2,1,3,1)*4\n",
        "y"
      ],
      "metadata": {
        "colab": {
          "base_uri": "https://localhost:8080/"
        },
        "id": "kZhVbksIT3DP",
        "outputId": "8bfdd41f-00cf-4fe6-dc6e-607fac91be07"
      },
      "execution_count": 21,
      "outputs": [
        {
          "output_type": "execute_result",
          "data": {
            "text/plain": [
              "array([[[[4.],\n",
              "         [4.],\n",
              "         [4.]]],\n",
              "\n",
              "\n",
              "       [[[4.],\n",
              "         [4.],\n",
              "         [4.]]]])"
            ]
          },
          "metadata": {},
          "execution_count": 21
        }
      ]
    },
    {
      "cell_type": "code",
      "source": [
        "tf.sqrt(y)"
      ],
      "metadata": {
        "colab": {
          "base_uri": "https://localhost:8080/"
        },
        "id": "Vj--iafBUBqn",
        "outputId": "952102bf-a1c3-44e4-9804-83fd97497acd"
      },
      "execution_count": 22,
      "outputs": [
        {
          "output_type": "execute_result",
          "data": {
            "text/plain": [
              "<tf.Tensor: shape=(2, 1, 3, 1), dtype=float64, numpy=\n",
              "array([[[[2.],\n",
              "         [2.],\n",
              "         [2.]]],\n",
              "\n",
              "\n",
              "       [[[2.],\n",
              "         [2.],\n",
              "         [2.]]]])>"
            ]
          },
          "metadata": {},
          "execution_count": 22
        }
      ]
    },
    {
      "cell_type": "markdown",
      "source": [
        "# **Square Root of Tensor**"
      ],
      "metadata": {
        "id": "6eXuQ6IwUGIn"
      }
    },
    {
      "cell_type": "code",
      "source": [
        "tf.sqrt(tf.convert_to_tensor(4,dtype=tf.float32))"
      ],
      "metadata": {
        "colab": {
          "base_uri": "https://localhost:8080/"
        },
        "id": "iNOE6fSDUR_v",
        "outputId": "b861d896-6d50-4dc0-9c1e-c2019eee7f81"
      },
      "execution_count": 23,
      "outputs": [
        {
          "output_type": "execute_result",
          "data": {
            "text/plain": [
              "<tf.Tensor: shape=(), dtype=float32, numpy=2.0>"
            ]
          },
          "metadata": {},
          "execution_count": 23
        }
      ]
    },
    {
      "cell_type": "code",
      "source": [
        "tf.sqrt(tf.convert_to_tensor([4,9,16],dtype=tf.float32))"
      ],
      "metadata": {
        "colab": {
          "base_uri": "https://localhost:8080/"
        },
        "id": "Rf72Hw6mUe8o",
        "outputId": "c8529ad1-568d-4f58-ab83-8dcb33ffc7f5"
      },
      "execution_count": 24,
      "outputs": [
        {
          "output_type": "execute_result",
          "data": {
            "text/plain": [
              "<tf.Tensor: shape=(3,), dtype=float32, numpy=array([2., 3., 4.], dtype=float32)>"
            ]
          },
          "metadata": {},
          "execution_count": 24
        }
      ]
    },
    {
      "cell_type": "markdown",
      "source": [
        "# **Square Root of constant tensor**"
      ],
      "metadata": {
        "id": "kmUik-IxUm54"
      }
    },
    {
      "cell_type": "code",
      "source": [
        "tf_ct1=tf.constant([4,9,16],dtype=\"float32\")\n",
        "tf_ct1"
      ],
      "metadata": {
        "colab": {
          "base_uri": "https://localhost:8080/"
        },
        "id": "T__-gxOOU0AM",
        "outputId": "ad548b7e-aeae-4863-e079-d4195ebb6ea7"
      },
      "execution_count": 27,
      "outputs": [
        {
          "output_type": "execute_result",
          "data": {
            "text/plain": [
              "<tf.Tensor: shape=(3,), dtype=float32, numpy=array([ 4.,  9., 16.], dtype=float32)>"
            ]
          },
          "metadata": {},
          "execution_count": 27
        }
      ]
    },
    {
      "cell_type": "markdown",
      "source": [
        "# **Square Root of Variable tensor**"
      ],
      "metadata": {
        "id": "DJ8pJEQoVDjd"
      }
    },
    {
      "cell_type": "code",
      "source": [
        "tf_vr1=tf.Variable([4,9,16],dtype=\"float32\")\n",
        "tf_vr1"
      ],
      "metadata": {
        "colab": {
          "base_uri": "https://localhost:8080/"
        },
        "id": "ce-Cay2xVLTp",
        "outputId": "26d53831-75bd-4889-dde8-340f18919196"
      },
      "execution_count": 28,
      "outputs": [
        {
          "output_type": "execute_result",
          "data": {
            "text/plain": [
              "<tf.Variable 'Variable:0' shape=(3,) dtype=float32, numpy=array([ 4.,  9., 16.], dtype=float32)>"
            ]
          },
          "metadata": {},
          "execution_count": 28
        }
      ]
    }
  ]
}