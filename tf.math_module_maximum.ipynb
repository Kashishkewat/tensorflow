{
  "nbformat": 4,
  "nbformat_minor": 0,
  "metadata": {
    "colab": {
      "provenance": [],
      "authorship_tag": "ABX9TyP0SAgkCxirC9cw1ZcUlD2X",
      "include_colab_link": true
    },
    "kernelspec": {
      "name": "python3",
      "display_name": "Python 3"
    },
    "language_info": {
      "name": "python"
    }
  },
  "cells": [
    {
      "cell_type": "markdown",
      "metadata": {
        "id": "view-in-github",
        "colab_type": "text"
      },
      "source": [
        "<a href=\"https://colab.research.google.com/github/Kashishkewat/tensorflow/blob/main/tf.math_module_maximum.ipynb\" target=\"_parent\"><img src=\"https://colab.research.google.com/assets/colab-badge.svg\" alt=\"Open In Colab\"/></a>"
      ]
    },
    {
      "cell_type": "markdown",
      "source": [
        "# **tf.maximum**"
      ],
      "metadata": {
        "id": "NpUMhOustGxh"
      }
    },
    {
      "cell_type": "code",
      "source": [
        "import tensorflow as tf\n",
        "import numpy as np"
      ],
      "metadata": {
        "id": "NBS5F98yukm0"
      },
      "execution_count": 4,
      "outputs": []
    },
    {
      "cell_type": "markdown",
      "source": [
        "# **Maximum of scaler**"
      ],
      "metadata": {
        "id": "NlZuP1-6t2sS"
      }
    },
    {
      "cell_type": "code",
      "execution_count": 3,
      "metadata": {
        "colab": {
          "base_uri": "https://localhost:8080/"
        },
        "id": "Qu40Zo51s_qj",
        "outputId": "42bbd2db-9251-4245-d214-8ee48d4fc95a"
      },
      "outputs": [
        {
          "output_type": "execute_result",
          "data": {
            "text/plain": [
              "<tf.Tensor: shape=(), dtype=int32, numpy=10>"
            ]
          },
          "metadata": {},
          "execution_count": 3
        }
      ],
      "source": [
        "a=10\n",
        "b=10\n",
        "tf.maximum(a,b)"
      ]
    },
    {
      "cell_type": "markdown",
      "source": [
        "# **Maximum of List/Tuple**"
      ],
      "metadata": {
        "id": "Y_WaYq3juvqy"
      }
    },
    {
      "cell_type": "code",
      "source": [
        "l1=[1,3,4,5,6]\n",
        "l2=[2,3,4,5,9]\n",
        "tf.maximum(l1,l2)"
      ],
      "metadata": {
        "colab": {
          "base_uri": "https://localhost:8080/"
        },
        "id": "cV6gDpr_u2fN",
        "outputId": "ad1bcbf5-bcdf-44d9-ed59-1f8950412a2b"
      },
      "execution_count": 5,
      "outputs": [
        {
          "output_type": "execute_result",
          "data": {
            "text/plain": [
              "<tf.Tensor: shape=(5,), dtype=int32, numpy=array([2, 3, 4, 5, 9], dtype=int32)>"
            ]
          },
          "metadata": {},
          "execution_count": 5
        }
      ]
    },
    {
      "cell_type": "code",
      "source": [
        "l1=[1,2,3,4]\n",
        "l2=[9]\n",
        "tf.maximum(l1,l2)"
      ],
      "metadata": {
        "colab": {
          "base_uri": "https://localhost:8080/"
        },
        "id": "zWcD413uvgTy",
        "outputId": "8e25608d-2dd2-4311-edec-ffced3eef5d1"
      },
      "execution_count": 8,
      "outputs": [
        {
          "output_type": "execute_result",
          "data": {
            "text/plain": [
              "<tf.Tensor: shape=(4,), dtype=int32, numpy=array([9, 9, 9, 9], dtype=int32)>"
            ]
          },
          "metadata": {},
          "execution_count": 8
        }
      ]
    },
    {
      "cell_type": "code",
      "source": [
        "l1=[2,3,4]\n",
        "a=12\n",
        "tf.maximum(l1,a)"
      ],
      "metadata": {
        "colab": {
          "base_uri": "https://localhost:8080/"
        },
        "id": "4Yied0j6w4t7",
        "outputId": "a2cfcdf3-97ae-4468-a813-bb095e8728f5"
      },
      "execution_count": 14,
      "outputs": [
        {
          "output_type": "execute_result",
          "data": {
            "text/plain": [
              "<tf.Tensor: shape=(3,), dtype=int32, numpy=array([12, 12, 12], dtype=int32)>"
            ]
          },
          "metadata": {},
          "execution_count": 14
        }
      ]
    },
    {
      "cell_type": "code",
      "source": [
        "t1=(1,2,3,4)\n",
        "t2=(5,6,7,8)\n",
        "tf.maximum(t1,t2)"
      ],
      "metadata": {
        "colab": {
          "base_uri": "https://localhost:8080/"
        },
        "id": "W0G9qzXjv5fx",
        "outputId": "509c4769-cf1a-4a92-ea5d-ea511edf11aa"
      },
      "execution_count": 9,
      "outputs": [
        {
          "output_type": "execute_result",
          "data": {
            "text/plain": [
              "<tf.Tensor: shape=(4,), dtype=int32, numpy=array([5, 6, 7, 8], dtype=int32)>"
            ]
          },
          "metadata": {},
          "execution_count": 9
        }
      ]
    },
    {
      "cell_type": "code",
      "source": [
        "t1=(1,2,3,4)\n",
        "t2=(5)\n",
        "tf.maximum(t1,t2)\n"
      ],
      "metadata": {
        "colab": {
          "base_uri": "https://localhost:8080/"
        },
        "id": "Bbh4rT_pwDsO",
        "outputId": "1dc1af8f-9997-44b6-c674-fe18674071a8"
      },
      "execution_count": 10,
      "outputs": [
        {
          "output_type": "execute_result",
          "data": {
            "text/plain": [
              "<tf.Tensor: shape=(4,), dtype=int32, numpy=array([5, 5, 5, 5], dtype=int32)>"
            ]
          },
          "metadata": {},
          "execution_count": 10
        }
      ]
    },
    {
      "cell_type": "code",
      "source": [
        "t1=(1,2,3,4)\n",
        "a=12\n",
        "tf.maximum(t1,a)"
      ],
      "metadata": {
        "colab": {
          "base_uri": "https://localhost:8080/"
        },
        "id": "JOekHcWgw_FX",
        "outputId": "6ea63df2-8159-4f2c-a0f5-7e7ea0301007"
      },
      "execution_count": 15,
      "outputs": [
        {
          "output_type": "execute_result",
          "data": {
            "text/plain": [
              "<tf.Tensor: shape=(4,), dtype=int32, numpy=array([12, 12, 12, 12], dtype=int32)>"
            ]
          },
          "metadata": {},
          "execution_count": 15
        }
      ]
    },
    {
      "cell_type": "markdown",
      "source": [
        "# **Maximum of numpy array**"
      ],
      "metadata": {
        "id": "kC92OurAwJb_"
      }
    },
    {
      "cell_type": "code",
      "source": [
        "npa1=np.array([1,2,3,4])\n",
        "npa2=np.array([5,6,7,8])\n",
        "tf.maximum(npa1,npa2)"
      ],
      "metadata": {
        "colab": {
          "base_uri": "https://localhost:8080/"
        },
        "id": "FBkaGRqAwQoY",
        "outputId": "cf2886cb-970c-42a1-92a7-a1fd3bd1920b"
      },
      "execution_count": 11,
      "outputs": [
        {
          "output_type": "execute_result",
          "data": {
            "text/plain": [
              "<tf.Tensor: shape=(4,), dtype=int64, numpy=array([5, 6, 7, 8])>"
            ]
          },
          "metadata": {},
          "execution_count": 11
        }
      ]
    },
    {
      "cell_type": "code",
      "source": [
        "npa1=np.array([1,2,3,4])\n",
        "npa2=np.array([8])\n",
        "tf.maximum(npa1,npa2)"
      ],
      "metadata": {
        "colab": {
          "base_uri": "https://localhost:8080/"
        },
        "id": "3gSy01JQweQD",
        "outputId": "c696b41e-9cbc-47ec-ee4a-237178dadf47"
      },
      "execution_count": 12,
      "outputs": [
        {
          "output_type": "execute_result",
          "data": {
            "text/plain": [
              "<tf.Tensor: shape=(4,), dtype=int64, numpy=array([8, 8, 8, 8])>"
            ]
          },
          "metadata": {},
          "execution_count": 12
        }
      ]
    },
    {
      "cell_type": "code",
      "source": [
        "npa1=np.array([1,2,3,4])\n",
        "a=13\n",
        "tf.maximum(npa1,a)"
      ],
      "metadata": {
        "colab": {
          "base_uri": "https://localhost:8080/"
        },
        "id": "ObdOlqSCwlz4",
        "outputId": "14902045-a30e-4841-f350-01ee1164cca3"
      },
      "execution_count": 13,
      "outputs": [
        {
          "output_type": "execute_result",
          "data": {
            "text/plain": [
              "<tf.Tensor: shape=(4,), dtype=int64, numpy=array([13, 13, 13, 13])>"
            ]
          },
          "metadata": {},
          "execution_count": 13
        }
      ]
    },
    {
      "cell_type": "markdown",
      "source": [
        "# **Maximum of TF Constant**"
      ],
      "metadata": {
        "id": "alGuar0XxCUW"
      }
    },
    {
      "cell_type": "code",
      "source": [
        "tf_ct1=tf.constant([1,2,3,4])\n",
        "tf_ct2=tf.constant([5,6,7,8])\n",
        "tf.maximum(tf_ct1,tf_ct2)"
      ],
      "metadata": {
        "colab": {
          "base_uri": "https://localhost:8080/"
        },
        "id": "32zCjqWpxJiI",
        "outputId": "7ff33c09-bba6-480c-c539-a469bf7ef882"
      },
      "execution_count": 16,
      "outputs": [
        {
          "output_type": "execute_result",
          "data": {
            "text/plain": [
              "<tf.Tensor: shape=(4,), dtype=int32, numpy=array([5, 6, 7, 8], dtype=int32)>"
            ]
          },
          "metadata": {},
          "execution_count": 16
        }
      ]
    },
    {
      "cell_type": "code",
      "source": [
        "tf_ct1=tf.constant([1,2,3,4])\n",
        "tf_ct2=tf.constant([5])\n",
        "tf.maximum(tf_ct1,tf_ct2)"
      ],
      "metadata": {
        "colab": {
          "base_uri": "https://localhost:8080/"
        },
        "id": "08RD18wixgJr",
        "outputId": "b69b2c94-daff-490d-a0cc-baba3a81b5d9"
      },
      "execution_count": 17,
      "outputs": [
        {
          "output_type": "execute_result",
          "data": {
            "text/plain": [
              "<tf.Tensor: shape=(4,), dtype=int32, numpy=array([5, 5, 5, 5], dtype=int32)>"
            ]
          },
          "metadata": {},
          "execution_count": 17
        }
      ]
    },
    {
      "cell_type": "code",
      "source": [
        "tf_ct1=tf.constant([1,2,3,4])\n",
        "tf_ct2=9\n",
        "tf.maximum(tf_ct1,tf_ct2)"
      ],
      "metadata": {
        "colab": {
          "base_uri": "https://localhost:8080/"
        },
        "id": "OfWPr9APxgGx",
        "outputId": "65dcc82e-465f-4164-94f2-57eeb4290deb"
      },
      "execution_count": 18,
      "outputs": [
        {
          "output_type": "execute_result",
          "data": {
            "text/plain": [
              "<tf.Tensor: shape=(4,), dtype=int32, numpy=array([9, 9, 9, 9], dtype=int32)>"
            ]
          },
          "metadata": {},
          "execution_count": 18
        }
      ]
    },
    {
      "cell_type": "markdown",
      "source": [
        "# **Maximum of TF Constant**"
      ],
      "metadata": {
        "id": "L0-Z7YYfxpz_"
      }
    },
    {
      "cell_type": "code",
      "source": [
        "tf_vr1=tf.Variable([1,2,3,4])\n",
        "tf_vr2=tf.Variable([5,6,7,8])\n",
        "tf.maximum(tf_vr1,tf_vr2)"
      ],
      "metadata": {
        "colab": {
          "base_uri": "https://localhost:8080/"
        },
        "id": "9iOWMKApxpOO",
        "outputId": "48d4ba48-37e1-4ecf-fe94-f9201be1e8d1"
      },
      "execution_count": 19,
      "outputs": [
        {
          "output_type": "execute_result",
          "data": {
            "text/plain": [
              "<tf.Tensor: shape=(4,), dtype=int32, numpy=array([5, 6, 7, 8], dtype=int32)>"
            ]
          },
          "metadata": {},
          "execution_count": 19
        }
      ]
    },
    {
      "cell_type": "code",
      "source": [
        "tf_vr1=tf.Variable([1,2,3,4])\n",
        "tf_vr2=tf.Variable([5])\n",
        "tf.maximum(tf_vr1,tf_vr2)"
      ],
      "metadata": {
        "colab": {
          "base_uri": "https://localhost:8080/"
        },
        "id": "aWYCDsbvx4es",
        "outputId": "6b02a39b-a8bf-4201-e7ba-68bf44b03c43"
      },
      "execution_count": 20,
      "outputs": [
        {
          "output_type": "execute_result",
          "data": {
            "text/plain": [
              "<tf.Tensor: shape=(4,), dtype=int32, numpy=array([5, 5, 5, 5], dtype=int32)>"
            ]
          },
          "metadata": {},
          "execution_count": 20
        }
      ]
    },
    {
      "cell_type": "code",
      "source": [
        "tf_vr1=tf.Variable([1,2,3,4])\n",
        "tf_vr2=13\n",
        "tf.maximum(tf_vr1,tf_vr2)"
      ],
      "metadata": {
        "colab": {
          "base_uri": "https://localhost:8080/"
        },
        "id": "pQ6buT5Jx9x8",
        "outputId": "94b91d32-9c8e-4836-fd32-66a56bfed6f3"
      },
      "execution_count": 21,
      "outputs": [
        {
          "output_type": "execute_result",
          "data": {
            "text/plain": [
              "<tf.Tensor: shape=(4,), dtype=int32, numpy=array([13, 13, 13, 13], dtype=int32)>"
            ]
          },
          "metadata": {},
          "execution_count": 21
        }
      ]
    }
  ]
}