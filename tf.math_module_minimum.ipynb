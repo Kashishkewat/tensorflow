{
  "nbformat": 4,
  "nbformat_minor": 0,
  "metadata": {
    "colab": {
      "provenance": [],
      "authorship_tag": "ABX9TyPOyViliX5DISm3Jcx5JpX5",
      "include_colab_link": true
    },
    "kernelspec": {
      "name": "python3",
      "display_name": "Python 3"
    },
    "language_info": {
      "name": "python"
    }
  },
  "cells": [
    {
      "cell_type": "markdown",
      "metadata": {
        "id": "view-in-github",
        "colab_type": "text"
      },
      "source": [
        "<a href=\"https://colab.research.google.com/github/Kashishkewat/tensorflow/blob/main/tf.math_module_minimum.ipynb\" target=\"_parent\"><img src=\"https://colab.research.google.com/assets/colab-badge.svg\" alt=\"Open In Colab\"/></a>"
      ]
    },
    {
      "cell_type": "markdown",
      "source": [
        "# **tf.maximum**"
      ],
      "metadata": {
        "id": "NpUMhOustGxh"
      }
    },
    {
      "cell_type": "code",
      "source": [
        "import tensorflow as tf\n",
        "import numpy as np"
      ],
      "metadata": {
        "id": "NBS5F98yukm0"
      },
      "execution_count": 30,
      "outputs": []
    },
    {
      "cell_type": "markdown",
      "source": [
        "# **Maximum of scaler**"
      ],
      "metadata": {
        "id": "NlZuP1-6t2sS"
      }
    },
    {
      "cell_type": "code",
      "execution_count": 31,
      "metadata": {
        "colab": {
          "base_uri": "https://localhost:8080/"
        },
        "id": "Qu40Zo51s_qj",
        "outputId": "f906b716-f83c-426e-baff-310e3f1aba6c"
      },
      "outputs": [
        {
          "output_type": "execute_result",
          "data": {
            "text/plain": [
              "<tf.Tensor: shape=(), dtype=int32, numpy=10>"
            ]
          },
          "metadata": {},
          "execution_count": 31
        }
      ],
      "source": [
        "a=10\n",
        "b=10\n",
        "tf.minimum(a,b)"
      ]
    },
    {
      "cell_type": "markdown",
      "source": [
        "# **Maximum of List/Tuple**"
      ],
      "metadata": {
        "id": "Y_WaYq3juvqy"
      }
    },
    {
      "cell_type": "code",
      "source": [
        "l1=[1,3,4,5,6]\n",
        "l2=[2,3,4,5,9]\n",
        "tf.minimum(l1,l2)"
      ],
      "metadata": {
        "colab": {
          "base_uri": "https://localhost:8080/"
        },
        "id": "cV6gDpr_u2fN",
        "outputId": "7c9af50b-ab75-4031-e1ca-9cf2bb9b3f1e"
      },
      "execution_count": 32,
      "outputs": [
        {
          "output_type": "execute_result",
          "data": {
            "text/plain": [
              "<tf.Tensor: shape=(5,), dtype=int32, numpy=array([1, 3, 4, 5, 6], dtype=int32)>"
            ]
          },
          "metadata": {},
          "execution_count": 32
        }
      ]
    },
    {
      "cell_type": "code",
      "source": [
        "l1=[1,2,3,4]\n",
        "l2=[9]\n",
        "tf.minimum(l1,l2)"
      ],
      "metadata": {
        "colab": {
          "base_uri": "https://localhost:8080/"
        },
        "id": "zWcD413uvgTy",
        "outputId": "f2465de4-d3fb-425e-93dd-29f9689a5e05"
      },
      "execution_count": 33,
      "outputs": [
        {
          "output_type": "execute_result",
          "data": {
            "text/plain": [
              "<tf.Tensor: shape=(4,), dtype=int32, numpy=array([1, 2, 3, 4], dtype=int32)>"
            ]
          },
          "metadata": {},
          "execution_count": 33
        }
      ]
    },
    {
      "cell_type": "code",
      "source": [
        "l1=[2,3,4]\n",
        "a=12\n",
        "tf.minimum(l1,a)"
      ],
      "metadata": {
        "colab": {
          "base_uri": "https://localhost:8080/"
        },
        "id": "4Yied0j6w4t7",
        "outputId": "1b3338dc-3e66-4641-b257-cce3513542b9"
      },
      "execution_count": 34,
      "outputs": [
        {
          "output_type": "execute_result",
          "data": {
            "text/plain": [
              "<tf.Tensor: shape=(3,), dtype=int32, numpy=array([2, 3, 4], dtype=int32)>"
            ]
          },
          "metadata": {},
          "execution_count": 34
        }
      ]
    },
    {
      "cell_type": "code",
      "source": [
        "t1=(1,2,3,4)\n",
        "t2=(5,6,7,8)\n",
        "tf.minimum(t1,t2)"
      ],
      "metadata": {
        "colab": {
          "base_uri": "https://localhost:8080/"
        },
        "id": "W0G9qzXjv5fx",
        "outputId": "87648b1e-ee12-48a4-fd02-b53202e43004"
      },
      "execution_count": 35,
      "outputs": [
        {
          "output_type": "execute_result",
          "data": {
            "text/plain": [
              "<tf.Tensor: shape=(4,), dtype=int32, numpy=array([1, 2, 3, 4], dtype=int32)>"
            ]
          },
          "metadata": {},
          "execution_count": 35
        }
      ]
    },
    {
      "cell_type": "code",
      "source": [
        "t1=(1,2,3,4)\n",
        "t2=(5)\n",
        "tf.minimum(t1,t2)\n"
      ],
      "metadata": {
        "colab": {
          "base_uri": "https://localhost:8080/"
        },
        "id": "Bbh4rT_pwDsO",
        "outputId": "d275e1c7-df13-4878-f72b-2bd8e34b2dad"
      },
      "execution_count": 36,
      "outputs": [
        {
          "output_type": "execute_result",
          "data": {
            "text/plain": [
              "<tf.Tensor: shape=(4,), dtype=int32, numpy=array([1, 2, 3, 4], dtype=int32)>"
            ]
          },
          "metadata": {},
          "execution_count": 36
        }
      ]
    },
    {
      "cell_type": "code",
      "source": [
        "t1=(1,2,3,4)\n",
        "a=12\n",
        "tf.minimum(t1,a)"
      ],
      "metadata": {
        "colab": {
          "base_uri": "https://localhost:8080/"
        },
        "id": "JOekHcWgw_FX",
        "outputId": "d339ddb5-101a-4dc0-a34e-f32a20eb0d88"
      },
      "execution_count": 37,
      "outputs": [
        {
          "output_type": "execute_result",
          "data": {
            "text/plain": [
              "<tf.Tensor: shape=(4,), dtype=int32, numpy=array([1, 2, 3, 4], dtype=int32)>"
            ]
          },
          "metadata": {},
          "execution_count": 37
        }
      ]
    },
    {
      "cell_type": "markdown",
      "source": [
        "# **Maximum of numpy array**"
      ],
      "metadata": {
        "id": "kC92OurAwJb_"
      }
    },
    {
      "cell_type": "code",
      "source": [
        "npa1=np.array([1,2,3,4])\n",
        "npa2=np.array([5,6,7,8])\n",
        "tf.minimum(npa1,npa2)"
      ],
      "metadata": {
        "colab": {
          "base_uri": "https://localhost:8080/"
        },
        "id": "FBkaGRqAwQoY",
        "outputId": "40c389a5-bdb9-4602-bdd3-e51b291cc64e"
      },
      "execution_count": 38,
      "outputs": [
        {
          "output_type": "execute_result",
          "data": {
            "text/plain": [
              "<tf.Tensor: shape=(4,), dtype=int64, numpy=array([1, 2, 3, 4])>"
            ]
          },
          "metadata": {},
          "execution_count": 38
        }
      ]
    },
    {
      "cell_type": "code",
      "source": [
        "npa1=np.array([1,2,3,4])\n",
        "npa2=np.array([8])\n",
        "tf.minimum(npa1,npa2)"
      ],
      "metadata": {
        "colab": {
          "base_uri": "https://localhost:8080/"
        },
        "id": "3gSy01JQweQD",
        "outputId": "3d9c7e58-1e5a-40f5-e8f8-9117c06695d0"
      },
      "execution_count": 39,
      "outputs": [
        {
          "output_type": "execute_result",
          "data": {
            "text/plain": [
              "<tf.Tensor: shape=(4,), dtype=int64, numpy=array([1, 2, 3, 4])>"
            ]
          },
          "metadata": {},
          "execution_count": 39
        }
      ]
    },
    {
      "cell_type": "code",
      "source": [
        "npa1=np.array([1,2,3,4])\n",
        "a=13\n",
        "tf.minimum(npa1,a)"
      ],
      "metadata": {
        "colab": {
          "base_uri": "https://localhost:8080/"
        },
        "id": "ObdOlqSCwlz4",
        "outputId": "1a150fa2-fd9a-4c80-f8ad-d6479f7aaa45"
      },
      "execution_count": 40,
      "outputs": [
        {
          "output_type": "execute_result",
          "data": {
            "text/plain": [
              "<tf.Tensor: shape=(4,), dtype=int64, numpy=array([1, 2, 3, 4])>"
            ]
          },
          "metadata": {},
          "execution_count": 40
        }
      ]
    },
    {
      "cell_type": "markdown",
      "source": [
        "# **Maximum of TF Constant**"
      ],
      "metadata": {
        "id": "alGuar0XxCUW"
      }
    },
    {
      "cell_type": "code",
      "source": [
        "tf_ct1=tf.constant([1,2,3,4])\n",
        "tf_ct2=tf.constant([5,6,7,8])\n",
        "tf.minimum(tf_ct1,tf_ct2)"
      ],
      "metadata": {
        "colab": {
          "base_uri": "https://localhost:8080/"
        },
        "id": "32zCjqWpxJiI",
        "outputId": "ba06b998-26c9-46d4-e4d6-e1ceeac279b6"
      },
      "execution_count": 41,
      "outputs": [
        {
          "output_type": "execute_result",
          "data": {
            "text/plain": [
              "<tf.Tensor: shape=(4,), dtype=int32, numpy=array([1, 2, 3, 4], dtype=int32)>"
            ]
          },
          "metadata": {},
          "execution_count": 41
        }
      ]
    },
    {
      "cell_type": "code",
      "source": [
        "tf_ct1=tf.constant([1,2,3,4])\n",
        "tf_ct2=tf.constant([5])\n",
        "tf.minimum(tf_ct1,tf_ct2)"
      ],
      "metadata": {
        "colab": {
          "base_uri": "https://localhost:8080/"
        },
        "id": "08RD18wixgJr",
        "outputId": "4e0984b1-0ec4-4899-8629-206f7b1175b8"
      },
      "execution_count": 42,
      "outputs": [
        {
          "output_type": "execute_result",
          "data": {
            "text/plain": [
              "<tf.Tensor: shape=(4,), dtype=int32, numpy=array([1, 2, 3, 4], dtype=int32)>"
            ]
          },
          "metadata": {},
          "execution_count": 42
        }
      ]
    },
    {
      "cell_type": "code",
      "source": [
        "tf_ct1=tf.constant([1,2,3,4])\n",
        "tf_ct2=9\n",
        "tf.minimum(tf_ct1,tf_ct2)"
      ],
      "metadata": {
        "colab": {
          "base_uri": "https://localhost:8080/"
        },
        "id": "OfWPr9APxgGx",
        "outputId": "94d9011a-32b7-4e8a-a759-075cfa404bcd"
      },
      "execution_count": 43,
      "outputs": [
        {
          "output_type": "execute_result",
          "data": {
            "text/plain": [
              "<tf.Tensor: shape=(4,), dtype=int32, numpy=array([1, 2, 3, 4], dtype=int32)>"
            ]
          },
          "metadata": {},
          "execution_count": 43
        }
      ]
    },
    {
      "cell_type": "markdown",
      "source": [
        "# **Maximum of TF Constant**"
      ],
      "metadata": {
        "id": "L0-Z7YYfxpz_"
      }
    },
    {
      "cell_type": "code",
      "source": [
        "tf_vr1=tf.Variable([1,2,3,4])\n",
        "tf_vr2=tf.Variable([5,6,7,8])\n",
        "tf.minimum(tf_vr1,tf_vr2)"
      ],
      "metadata": {
        "colab": {
          "base_uri": "https://localhost:8080/"
        },
        "id": "9iOWMKApxpOO",
        "outputId": "52d51e91-a347-4664-8229-3aa4db1746ac"
      },
      "execution_count": 44,
      "outputs": [
        {
          "output_type": "execute_result",
          "data": {
            "text/plain": [
              "<tf.Tensor: shape=(4,), dtype=int32, numpy=array([1, 2, 3, 4], dtype=int32)>"
            ]
          },
          "metadata": {},
          "execution_count": 44
        }
      ]
    },
    {
      "cell_type": "code",
      "source": [
        "tf_vr1=tf.Variable([1,2,3,4])\n",
        "tf_vr2=tf.Variable([5])\n",
        "tf.minimum(tf_vr1,tf_vr2)"
      ],
      "metadata": {
        "colab": {
          "base_uri": "https://localhost:8080/"
        },
        "id": "aWYCDsbvx4es",
        "outputId": "3215da3b-cddb-489c-f146-72d0fa5d96e8"
      },
      "execution_count": 45,
      "outputs": [
        {
          "output_type": "execute_result",
          "data": {
            "text/plain": [
              "<tf.Tensor: shape=(4,), dtype=int32, numpy=array([1, 2, 3, 4], dtype=int32)>"
            ]
          },
          "metadata": {},
          "execution_count": 45
        }
      ]
    },
    {
      "cell_type": "code",
      "source": [
        "tf_vr1=tf.Variable([1,2,3,4])\n",
        "tf_vr2=13\n",
        "tf.minimum(tf_vr1,tf_vr2)"
      ],
      "metadata": {
        "colab": {
          "base_uri": "https://localhost:8080/"
        },
        "id": "pQ6buT5Jx9x8",
        "outputId": "651c28eb-2236-4de5-fd88-8d98640f7537"
      },
      "execution_count": 46,
      "outputs": [
        {
          "output_type": "execute_result",
          "data": {
            "text/plain": [
              "<tf.Tensor: shape=(4,), dtype=int32, numpy=array([1, 2, 3, 4], dtype=int32)>"
            ]
          },
          "metadata": {},
          "execution_count": 46
        }
      ]
    }
  ]
}