{
  "nbformat": 4,
  "nbformat_minor": 0,
  "metadata": {
    "colab": {
      "provenance": [],
      "authorship_tag": "ABX9TyNPmQN5dtcyPNzjcOAhYxDm",
      "include_colab_link": true
    },
    "kernelspec": {
      "name": "python3",
      "display_name": "Python 3"
    },
    "language_info": {
      "name": "python"
    }
  },
  "cells": [
    {
      "cell_type": "markdown",
      "metadata": {
        "id": "view-in-github",
        "colab_type": "text"
      },
      "source": [
        "<a href=\"https://colab.research.google.com/github/Kashishkewat/tensorflow/blob/main/tf.math_module_multiply.ipynb\" target=\"_parent\"><img src=\"https://colab.research.google.com/assets/colab-badge.svg\" alt=\"Open In Colab\"/></a>"
      ]
    },
    {
      "cell_type": "markdown",
      "source": [
        "# **tf.multiply()**"
      ],
      "metadata": {
        "id": "CRliy9fMXu0W"
      }
    },
    {
      "cell_type": "code",
      "source": [
        "import tensorflow as tf\n",
        "import numpy as np"
      ],
      "metadata": {
        "id": "u9wu9bniXuWq"
      },
      "execution_count": 16,
      "outputs": []
    },
    {
      "cell_type": "markdown",
      "source": [
        "# **scaler multiply**"
      ],
      "metadata": {
        "id": "OiLkejoqYCNx"
      }
    },
    {
      "cell_type": "code",
      "source": [
        "a=10\n",
        "b=20\n",
        "tf.multiply(a,b)"
      ],
      "metadata": {
        "colab": {
          "base_uri": "https://localhost:8080/"
        },
        "id": "SKQj59bfYAeh",
        "outputId": "c8861790-e86e-4850-cbc8-265fdd709f16"
      },
      "execution_count": 17,
      "outputs": [
        {
          "output_type": "execute_result",
          "data": {
            "text/plain": [
              "<tf.Tensor: shape=(), dtype=int32, numpy=200>"
            ]
          },
          "metadata": {},
          "execution_count": 17
        }
      ]
    },
    {
      "cell_type": "markdown",
      "source": [
        "# **multiply 2 list/tuple**"
      ],
      "metadata": {
        "id": "c0-GlAwGYPMj"
      }
    },
    {
      "cell_type": "code",
      "source": [
        "l1=[1,2,3,4]\n",
        "l2=[2,3,4,5]\n",
        "tf.multiply(l1,l2)"
      ],
      "metadata": {
        "colab": {
          "base_uri": "https://localhost:8080/"
        },
        "id": "-lRwMHhMYU9b",
        "outputId": "28bd4952-1c4d-4fc5-ceb7-59a4f9708fc0"
      },
      "execution_count": 18,
      "outputs": [
        {
          "output_type": "execute_result",
          "data": {
            "text/plain": [
              "<tf.Tensor: shape=(4,), dtype=int32, numpy=array([ 2,  6, 12, 20], dtype=int32)>"
            ]
          },
          "metadata": {},
          "execution_count": 18
        }
      ]
    },
    {
      "cell_type": "code",
      "source": [
        "t1=(1,2,3,4)\n",
        "t2=(2,3,4,5)\n",
        "tf.multiply(t1,t2)"
      ],
      "metadata": {
        "colab": {
          "base_uri": "https://localhost:8080/"
        },
        "id": "dx-B8nDfYf_a",
        "outputId": "edbac8e7-6923-4f4b-e938-9d635c312b12"
      },
      "execution_count": 19,
      "outputs": [
        {
          "output_type": "execute_result",
          "data": {
            "text/plain": [
              "<tf.Tensor: shape=(4,), dtype=int32, numpy=array([ 2,  6, 12, 20], dtype=int32)>"
            ]
          },
          "metadata": {},
          "execution_count": 19
        }
      ]
    },
    {
      "cell_type": "markdown",
      "source": [
        "# **multiply list/tuple with scaler**"
      ],
      "metadata": {
        "id": "bywoBVwCYpZT"
      }
    },
    {
      "cell_type": "code",
      "source": [
        "l1=[1,2,3,4]\n",
        "l2=[2]\n",
        "tf.multiply(l1,l2)"
      ],
      "metadata": {
        "colab": {
          "base_uri": "https://localhost:8080/"
        },
        "id": "bTXZtYy6YvjY",
        "outputId": "828a613a-2640-4354-a8e0-3bf099e4cd54"
      },
      "execution_count": 20,
      "outputs": [
        {
          "output_type": "execute_result",
          "data": {
            "text/plain": [
              "<tf.Tensor: shape=(4,), dtype=int32, numpy=array([2, 4, 6, 8], dtype=int32)>"
            ]
          },
          "metadata": {},
          "execution_count": 20
        }
      ]
    },
    {
      "cell_type": "code",
      "source": [
        "t2=(2,3,4,5)\n",
        "t1=(5)\n",
        "tf.multiply(t2,t1)"
      ],
      "metadata": {
        "colab": {
          "base_uri": "https://localhost:8080/"
        },
        "id": "DtH2QpUIY6lv",
        "outputId": "93520eeb-3666-489b-ec41-ad0c749d33be"
      },
      "execution_count": 21,
      "outputs": [
        {
          "output_type": "execute_result",
          "data": {
            "text/plain": [
              "<tf.Tensor: shape=(4,), dtype=int32, numpy=array([10, 15, 20, 25], dtype=int32)>"
            ]
          },
          "metadata": {},
          "execution_count": 21
        }
      ]
    },
    {
      "cell_type": "markdown",
      "source": [
        "# **multiply numpy array**"
      ],
      "metadata": {
        "id": "eQn5NkPyZFGj"
      }
    },
    {
      "cell_type": "code",
      "source": [
        "npa1=np.array([1,2,3,4])\n",
        "npa2=np.array([2,3,4,5])\n",
        "tf.multiply(npa1,npa2)"
      ],
      "metadata": {
        "colab": {
          "base_uri": "https://localhost:8080/"
        },
        "id": "DUEWQM2NZMNG",
        "outputId": "0f6fe886-1e28-4728-ade1-270a3f1845fb"
      },
      "execution_count": 22,
      "outputs": [
        {
          "output_type": "execute_result",
          "data": {
            "text/plain": [
              "<tf.Tensor: shape=(4,), dtype=int64, numpy=array([ 2,  6, 12, 20])>"
            ]
          },
          "metadata": {},
          "execution_count": 22
        }
      ]
    },
    {
      "cell_type": "markdown",
      "source": [
        "# **multiply numpy array with different size**"
      ],
      "metadata": {
        "id": "mCNIWt9jZaNu"
      }
    },
    {
      "cell_type": "code",
      "source": [
        "npa1=np.array([1,3,4,5])\n",
        "npa2=np.array([3])\n",
        "tf.multiply(npa1,npa2)"
      ],
      "metadata": {
        "colab": {
          "base_uri": "https://localhost:8080/"
        },
        "id": "thEAokBrZl8o",
        "outputId": "d48b9e35-b027-42b5-d2f7-993aed335c12"
      },
      "execution_count": 23,
      "outputs": [
        {
          "output_type": "execute_result",
          "data": {
            "text/plain": [
              "<tf.Tensor: shape=(4,), dtype=int64, numpy=array([ 3,  9, 12, 15])>"
            ]
          },
          "metadata": {},
          "execution_count": 23
        }
      ]
    },
    {
      "cell_type": "markdown",
      "source": [
        "# **multiply 2 tensor constant**"
      ],
      "metadata": {
        "id": "HgU6vJV1Z9eR"
      }
    },
    {
      "cell_type": "code",
      "source": [
        "tf_ct1=tf.constant([1,2,3,4])\n",
        "tf_ct2=tf.constant([5,5,6,7])\n",
        "tf.multiply(tf_ct1,tf_ct2)"
      ],
      "metadata": {
        "colab": {
          "base_uri": "https://localhost:8080/"
        },
        "id": "6Fql-cHQZ1BG",
        "outputId": "3e58ed24-0199-4a49-dc6e-a20a11757642"
      },
      "execution_count": 24,
      "outputs": [
        {
          "output_type": "execute_result",
          "data": {
            "text/plain": [
              "<tf.Tensor: shape=(4,), dtype=int32, numpy=array([ 5, 10, 18, 28], dtype=int32)>"
            ]
          },
          "metadata": {},
          "execution_count": 24
        }
      ]
    },
    {
      "cell_type": "markdown",
      "source": [
        "## **multiply** **constant**  **tensor** **with** **different** **shape**"
      ],
      "metadata": {
        "id": "0n37WDGgbEF1"
      }
    },
    {
      "cell_type": "code",
      "source": [
        "tf_ct1=tf.constant([1,2,3,4])\n",
        "tf_ct2=tf.constant([5])\n",
        "tf.multiply(tf_ct1,tf_ct2)\n",
        "#"
      ],
      "metadata": {
        "colab": {
          "base_uri": "https://localhost:8080/"
        },
        "id": "atVDE0FQbPLu",
        "outputId": "c60dc1fb-269e-47f3-f69b-31abe3c0bbd5"
      },
      "execution_count": 27,
      "outputs": [
        {
          "output_type": "execute_result",
          "data": {
            "text/plain": [
              "<tf.Tensor: shape=(4,), dtype=int32, numpy=array([ 5, 10, 15, 20], dtype=int32)>"
            ]
          },
          "metadata": {},
          "execution_count": 27
        }
      ]
    },
    {
      "cell_type": "markdown",
      "source": [
        "# **multiply 2 variable tensor**"
      ],
      "metadata": {
        "id": "Iwk_tUrUcIyI"
      }
    },
    {
      "cell_type": "code",
      "source": [
        "vr1=tf.Variable([1,2,3,4])\n",
        "vr2=tf.Variable([5,5,6,7])\n",
        "tf.multiply(vr1,vr2)"
      ],
      "metadata": {
        "colab": {
          "base_uri": "https://localhost:8080/"
        },
        "id": "yntHCkXAcOsJ",
        "outputId": "8c6d935e-6fb8-46a0-ad22-ae3233649356"
      },
      "execution_count": 29,
      "outputs": [
        {
          "output_type": "execute_result",
          "data": {
            "text/plain": [
              "<tf.Tensor: shape=(4,), dtype=int32, numpy=array([ 5, 10, 18, 28], dtype=int32)>"
            ]
          },
          "metadata": {},
          "execution_count": 29
        }
      ]
    },
    {
      "cell_type": "markdown",
      "source": [
        "## **multiply** **variable**  **tensor** **with** **different** **shape**"
      ],
      "metadata": {
        "id": "55w6fTnmbzgR"
      }
    },
    {
      "cell_type": "code",
      "source": [
        "vr1=tf.Variable([1,2,3,4])\n",
        "vr2=tf.Variable([3])\n",
        "tf.multiply(vr1,vr2)\n",
        "#"
      ],
      "metadata": {
        "colab": {
          "base_uri": "https://localhost:8080/"
        },
        "id": "XyP3HIrub4rM",
        "outputId": "e3cef765-c1d5-4f71-e3e7-c6fad0b6898d"
      },
      "execution_count": 28,
      "outputs": [
        {
          "output_type": "execute_result",
          "data": {
            "text/plain": [
              "<tf.Tensor: shape=(4,), dtype=int32, numpy=array([ 3,  6,  9, 12], dtype=int32)>"
            ]
          },
          "metadata": {},
          "execution_count": 28
        }
      ]
    }
  ]
}