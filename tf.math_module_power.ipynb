{
  "nbformat": 4,
  "nbformat_minor": 0,
  "metadata": {
    "colab": {
      "provenance": [],
      "authorship_tag": "ABX9TyOrAS4sZWb1UxNiXKUOIWUC",
      "include_colab_link": true
    },
    "kernelspec": {
      "name": "python3",
      "display_name": "Python 3"
    },
    "language_info": {
      "name": "python"
    }
  },
  "cells": [
    {
      "cell_type": "markdown",
      "metadata": {
        "id": "view-in-github",
        "colab_type": "text"
      },
      "source": [
        "<a href=\"https://colab.research.google.com/github/Kashishkewat/tensorflow/blob/main/tf.math_module_power.ipynb\" target=\"_parent\"><img src=\"https://colab.research.google.com/assets/colab-badge.svg\" alt=\"Open In Colab\"/></a>"
      ]
    },
    {
      "cell_type": "markdown",
      "source": [
        "tf.pow()"
      ],
      "metadata": {
        "id": "_fKk6oLm4amD"
      }
    },
    {
      "cell_type": "code",
      "execution_count": 2,
      "metadata": {
        "id": "EJEjJEDZ3bj-"
      },
      "outputs": [],
      "source": [
        "import tensorflow as tf\n",
        "import numpy as np"
      ]
    },
    {
      "cell_type": "markdown",
      "source": [
        "# **Power of Scaler**"
      ],
      "metadata": {
        "id": "ncn-InQb415R"
      }
    },
    {
      "cell_type": "code",
      "source": [
        "a=4\n",
        "b=2\n",
        "tf.pow(a,b)"
      ],
      "metadata": {
        "colab": {
          "base_uri": "https://localhost:8080/"
        },
        "id": "vqyT9bqW4lpO",
        "outputId": "7b4d02eb-3b56-4ec1-9cfc-8bd1d8ddb426"
      },
      "execution_count": 3,
      "outputs": [
        {
          "output_type": "execute_result",
          "data": {
            "text/plain": [
              "<tf.Tensor: shape=(), dtype=int32, numpy=16>"
            ]
          },
          "metadata": {},
          "execution_count": 3
        }
      ]
    },
    {
      "cell_type": "markdown",
      "source": [
        "# **power of numpy array**"
      ],
      "metadata": {
        "id": "3GkNumoe5EN7"
      }
    },
    {
      "cell_type": "code",
      "source": [
        "npa1=np.array([2,3,4],dtype=\"float32\")\n",
        "tf.pow(npa1,2)\n"
      ],
      "metadata": {
        "colab": {
          "base_uri": "https://localhost:8080/"
        },
        "id": "M8amGbPw5HpH",
        "outputId": "6fbe5ec5-713f-4581-bee4-fa66bd3e18bc"
      },
      "execution_count": 5,
      "outputs": [
        {
          "output_type": "execute_result",
          "data": {
            "text/plain": [
              "<tf.Tensor: shape=(3,), dtype=float32, numpy=array([ 4.,  9., 16.], dtype=float32)>"
            ]
          },
          "metadata": {},
          "execution_count": 5
        }
      ]
    },
    {
      "cell_type": "code",
      "source": [
        "npa1=np.array([2,3,4])\n",
        "npa2=np.array([1,2,3])\n",
        "tf.pow(npa1,npa2)"
      ],
      "metadata": {
        "colab": {
          "base_uri": "https://localhost:8080/"
        },
        "id": "Sb6lk3Fx5bsh",
        "outputId": "e4a349d0-87fe-47a9-c85a-02b6afde0155"
      },
      "execution_count": 6,
      "outputs": [
        {
          "output_type": "execute_result",
          "data": {
            "text/plain": [
              "<tf.Tensor: shape=(3,), dtype=int64, numpy=array([ 2,  9, 64])>"
            ]
          },
          "metadata": {},
          "execution_count": 6
        }
      ]
    },
    {
      "cell_type": "code",
      "source": [
        "y=np.ones(6).reshape(2,1,3,1)*4\n",
        "y"
      ],
      "metadata": {
        "colab": {
          "base_uri": "https://localhost:8080/"
        },
        "id": "0tmuxhBS6HWH",
        "outputId": "e3f4e425-d4f5-43ee-aeb2-a5aee7f1514e"
      },
      "execution_count": 7,
      "outputs": [
        {
          "output_type": "execute_result",
          "data": {
            "text/plain": [
              "array([[[[4.],\n",
              "         [4.],\n",
              "         [4.]]],\n",
              "\n",
              "\n",
              "       [[[4.],\n",
              "         [4.],\n",
              "         [4.]]]])"
            ]
          },
          "metadata": {},
          "execution_count": 7
        }
      ]
    },
    {
      "cell_type": "code",
      "source": [
        "tf.pow(y,2)"
      ],
      "metadata": {
        "colab": {
          "base_uri": "https://localhost:8080/"
        },
        "id": "CGs_5ZRv6UyU",
        "outputId": "b64beff2-56a3-4158-ec3b-b59e79b70398"
      },
      "execution_count": 8,
      "outputs": [
        {
          "output_type": "execute_result",
          "data": {
            "text/plain": [
              "<tf.Tensor: shape=(2, 1, 3, 1), dtype=float64, numpy=\n",
              "array([[[[16.],\n",
              "         [16.],\n",
              "         [16.]]],\n",
              "\n",
              "\n",
              "       [[[16.],\n",
              "         [16.],\n",
              "         [16.]]]])>"
            ]
          },
          "metadata": {},
          "execution_count": 8
        }
      ]
    },
    {
      "cell_type": "markdown",
      "source": [
        "# **Power of Tensor**"
      ],
      "metadata": {
        "id": "BfG4rIKW6t1m"
      }
    },
    {
      "cell_type": "code",
      "source": [
        "tf.pow(tf.convert_to_tensor([4,5,6],dtype=\"float\"),2)"
      ],
      "metadata": {
        "colab": {
          "base_uri": "https://localhost:8080/"
        },
        "id": "gUmuoF7a6yRU",
        "outputId": "7e1fd97a-a822-4c32-86ca-019fc01be3e9"
      },
      "execution_count": 9,
      "outputs": [
        {
          "output_type": "execute_result",
          "data": {
            "text/plain": [
              "<tf.Tensor: shape=(3,), dtype=float32, numpy=array([16., 25., 36.], dtype=float32)>"
            ]
          },
          "metadata": {},
          "execution_count": 9
        }
      ]
    },
    {
      "cell_type": "markdown",
      "source": [
        "# **Power of TF Constant Tensor**"
      ],
      "metadata": {
        "id": "kxFYEpi57BsA"
      }
    },
    {
      "cell_type": "code",
      "source": [
        "tf_ct1=tf.constant([4,5,6,7],dtype=\"float\")\n",
        "tf.pow(tf_ct1,2)"
      ],
      "metadata": {
        "colab": {
          "base_uri": "https://localhost:8080/"
        },
        "id": "5x47rTqn7KfZ",
        "outputId": "68970f8a-9045-4f74-fd22-ecdc3de594e0"
      },
      "execution_count": 10,
      "outputs": [
        {
          "output_type": "execute_result",
          "data": {
            "text/plain": [
              "<tf.Tensor: shape=(4,), dtype=float32, numpy=array([16., 25., 36., 49.], dtype=float32)>"
            ]
          },
          "metadata": {},
          "execution_count": 10
        }
      ]
    },
    {
      "cell_type": "markdown",
      "source": [
        "# **Power of TF Variable Tensor**"
      ],
      "metadata": {
        "id": "J-UhOCGCduUd"
      }
    },
    {
      "cell_type": "code",
      "source": [
        "tf_vr1=tf.Variable([64,9,4,255])\n",
        "tf_vr2=tf.Variable([2,3,2,5])\n",
        "tf.pow(tf_vr1,tf_vr2)"
      ],
      "metadata": {
        "colab": {
          "base_uri": "https://localhost:8080/"
        },
        "id": "5eXe9EQQeB6o",
        "outputId": "71911f7e-0a36-4392-bac9-125a49a6a34f"
      },
      "execution_count": 5,
      "outputs": [
        {
          "output_type": "execute_result",
          "data": {
            "text/plain": [
              "<tf.Tensor: shape=(4,), dtype=int32, numpy=array([     4096,       729,        16, 167118079], dtype=int32)>"
            ]
          },
          "metadata": {},
          "execution_count": 5
        }
      ]
    },
    {
      "cell_type": "code",
      "source": [
        "tf_vr1=tf.Variable([4,9,4,5])\n",
        "tf.pow(tf_vr1,2)"
      ],
      "metadata": {
        "colab": {
          "base_uri": "https://localhost:8080/"
        },
        "id": "qcRKshTqegL6",
        "outputId": "42abda1c-ad84-4c7a-cda7-c83daea09e0b"
      },
      "execution_count": 4,
      "outputs": [
        {
          "output_type": "execute_result",
          "data": {
            "text/plain": [
              "<tf.Tensor: shape=(4,), dtype=int32, numpy=array([16, 81, 16, 25], dtype=int32)>"
            ]
          },
          "metadata": {},
          "execution_count": 4
        }
      ]
    },
    {
      "cell_type": "code",
      "source": [
        "tf_vr1=tf.Variable([1,2,3,4])\n",
        "tf_vr2=tf.Variable([3])\n",
        "tf.pow(tf_vr1,tf_vr2)"
      ],
      "metadata": {
        "colab": {
          "base_uri": "https://localhost:8080/"
        },
        "id": "T0kLSy-NfB5C",
        "outputId": "3af13086-54f5-486e-bc61-b1c7f7f31b6f"
      },
      "execution_count": 6,
      "outputs": [
        {
          "output_type": "execute_result",
          "data": {
            "text/plain": [
              "<tf.Tensor: shape=(4,), dtype=int32, numpy=array([ 1,  8, 27, 64], dtype=int32)>"
            ]
          },
          "metadata": {},
          "execution_count": 6
        }
      ]
    },
    {
      "cell_type": "code",
      "source": [],
      "metadata": {
        "id": "boCI60bpfBxb"
      },
      "execution_count": null,
      "outputs": []
    }
  ]
}