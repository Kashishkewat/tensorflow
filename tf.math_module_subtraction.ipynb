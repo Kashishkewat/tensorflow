{
  "nbformat": 4,
  "nbformat_minor": 0,
  "metadata": {
    "colab": {
      "provenance": [],
      "authorship_tag": "ABX9TyNXdbfP225UiGEztzs0az1w",
      "include_colab_link": true
    },
    "kernelspec": {
      "name": "python3",
      "display_name": "Python 3"
    },
    "language_info": {
      "name": "python"
    }
  },
  "cells": [
    {
      "cell_type": "markdown",
      "metadata": {
        "id": "view-in-github",
        "colab_type": "text"
      },
      "source": [
        "<a href=\"https://colab.research.google.com/github/Kashishkewat/tensorflow/blob/main/tf.math_module_subtraction.ipynb\" target=\"_parent\"><img src=\"https://colab.research.google.com/assets/colab-badge.svg\" alt=\"Open In Colab\"/></a>"
      ]
    },
    {
      "cell_type": "markdown",
      "source": [
        "# **tf.subtract**"
      ],
      "metadata": {
        "id": "2NRyiizaSxFG"
      }
    },
    {
      "cell_type": "code",
      "execution_count": 1,
      "metadata": {
        "id": "Vm2-jVhfSu-y"
      },
      "outputs": [],
      "source": [
        "import tensorflow as tf\n",
        "import numpy as np"
      ]
    },
    {
      "cell_type": "markdown",
      "source": [
        "# **Scaler subtract**"
      ],
      "metadata": {
        "id": "bS6h6fFyTUgM"
      }
    },
    {
      "cell_type": "code",
      "source": [
        "a=19\n",
        "b=34\n",
        "tf.subtract(b,a)"
      ],
      "metadata": {
        "colab": {
          "base_uri": "https://localhost:8080/"
        },
        "id": "4NSRTLr8TFwx",
        "outputId": "2cbd9ad7-70d8-4188-fe1d-4e3021d0088c"
      },
      "execution_count": 4,
      "outputs": [
        {
          "output_type": "execute_result",
          "data": {
            "text/plain": [
              "<tf.Tensor: shape=(), dtype=int32, numpy=15>"
            ]
          },
          "metadata": {},
          "execution_count": 4
        }
      ]
    },
    {
      "cell_type": "markdown",
      "source": [
        "# **subtract 2 list**"
      ],
      "metadata": {
        "id": "vzYDBV3tTc7r"
      }
    },
    {
      "cell_type": "code",
      "source": [
        "l1=[1,2,3,4]\n",
        "l2=[5,6,8,8]\n",
        "tf.subtract(l2,l1)"
      ],
      "metadata": {
        "colab": {
          "base_uri": "https://localhost:8080/"
        },
        "id": "ZxG-ZFD4TcGY",
        "outputId": "53f56809-6f6e-4e76-8df4-ebcbe81db800"
      },
      "execution_count": 5,
      "outputs": [
        {
          "output_type": "execute_result",
          "data": {
            "text/plain": [
              "<tf.Tensor: shape=(4,), dtype=int32, numpy=array([4, 4, 5, 4], dtype=int32)>"
            ]
          },
          "metadata": {},
          "execution_count": 5
        }
      ]
    },
    {
      "cell_type": "markdown",
      "source": [
        "# **subtarct 2 tuple**"
      ],
      "metadata": {
        "id": "K6UDZde0Tvws"
      }
    },
    {
      "cell_type": "code",
      "source": [
        "t1=(1,2,3,4)\n",
        "t2=(5,6,7,8)\n",
        "tf.subtract(t2,t1)"
      ],
      "metadata": {
        "colab": {
          "base_uri": "https://localhost:8080/"
        },
        "id": "BdWqBm6VT2KL",
        "outputId": "18b98587-40b6-431d-d959-d1d6560f789a"
      },
      "execution_count": 7,
      "outputs": [
        {
          "output_type": "execute_result",
          "data": {
            "text/plain": [
              "<tf.Tensor: shape=(4,), dtype=int32, numpy=array([4, 4, 4, 4], dtype=int32)>"
            ]
          },
          "metadata": {},
          "execution_count": 7
        }
      ]
    },
    {
      "cell_type": "markdown",
      "source": [
        "# **subtract of list/tuple with scaler**"
      ],
      "metadata": {
        "id": "7tZxOjXvUE7o"
      }
    },
    {
      "cell_type": "code",
      "source": [
        "a=12\n",
        "b=[20,30,40]\n",
        "tf.subtract(b,a)"
      ],
      "metadata": {
        "colab": {
          "base_uri": "https://localhost:8080/"
        },
        "id": "q68gDJTcUNZm",
        "outputId": "5e45e16f-cdce-4aec-891f-08c2b4bdde00"
      },
      "execution_count": 8,
      "outputs": [
        {
          "output_type": "execute_result",
          "data": {
            "text/plain": [
              "<tf.Tensor: shape=(3,), dtype=int32, numpy=array([ 8, 18, 28], dtype=int32)>"
            ]
          },
          "metadata": {},
          "execution_count": 8
        }
      ]
    },
    {
      "cell_type": "markdown",
      "source": [
        "# subtract of 2 list/tuple with different **size**"
      ],
      "metadata": {
        "id": "IYI6xvbAUbTU"
      }
    },
    {
      "cell_type": "code",
      "source": [
        "l1=[12,22,32,42]\n",
        "l2=[5]\n",
        "tf.subtract(l1,l2)"
      ],
      "metadata": {
        "colab": {
          "base_uri": "https://localhost:8080/"
        },
        "id": "LguoylzOUqKx",
        "outputId": "d643481e-3000-49fb-e87b-dcd472aa5125"
      },
      "execution_count": 9,
      "outputs": [
        {
          "output_type": "execute_result",
          "data": {
            "text/plain": [
              "<tf.Tensor: shape=(4,), dtype=int32, numpy=array([ 7, 17, 27, 37], dtype=int32)>"
            ]
          },
          "metadata": {},
          "execution_count": 9
        }
      ]
    },
    {
      "cell_type": "markdown",
      "source": [
        "# **subtract 2 numpy array**"
      ],
      "metadata": {
        "id": "GFjOzTEYU6W1"
      }
    },
    {
      "cell_type": "code",
      "source": [
        "npa1=np.array([1,2,3,4])\n",
        "npa2=np.array([2,3,4,5])\n",
        "tf.subtract(npa1,npa2)"
      ],
      "metadata": {
        "colab": {
          "base_uri": "https://localhost:8080/"
        },
        "id": "Bd9nFeDKU-si",
        "outputId": "d50fafdd-31a1-4196-c112-424efc01c607"
      },
      "execution_count": 10,
      "outputs": [
        {
          "output_type": "execute_result",
          "data": {
            "text/plain": [
              "<tf.Tensor: shape=(4,), dtype=int64, numpy=array([-1, -1, -1, -1])>"
            ]
          },
          "metadata": {},
          "execution_count": 10
        }
      ]
    },
    {
      "cell_type": "markdown",
      "source": [
        "# **subtract numpy array with scaler**"
      ],
      "metadata": {
        "id": "tPl9OCtFVORe"
      }
    },
    {
      "cell_type": "code",
      "source": [
        "npa1=np.array([1,2,3,4])\n",
        "npa2=np.array([2])\n",
        "tf.subtract(npa1,npa2)"
      ],
      "metadata": {
        "colab": {
          "base_uri": "https://localhost:8080/"
        },
        "id": "i5Iqnh2mVVRu",
        "outputId": "028e66d9-9ccd-4fd1-e03b-716c16f9a066"
      },
      "execution_count": 11,
      "outputs": [
        {
          "output_type": "execute_result",
          "data": {
            "text/plain": [
              "<tf.Tensor: shape=(4,), dtype=int64, numpy=array([-1,  0,  1,  2])>"
            ]
          },
          "metadata": {},
          "execution_count": 11
        }
      ]
    },
    {
      "cell_type": "markdown",
      "source": [
        "# **subtract 2 tf constant tensor**"
      ],
      "metadata": {
        "id": "gHciRiX4V16z"
      }
    },
    {
      "cell_type": "code",
      "source": [
        "tf_ct1=tf.constant([1,2,3,4])\n",
        "tf_ct2=tf.constant([2,3,4,5])\n",
        "tf.subtract(tf_ct1,tf_ct2)"
      ],
      "metadata": {
        "colab": {
          "base_uri": "https://localhost:8080/"
        },
        "id": "bj1XHAEyV9WI",
        "outputId": "af76da88-2a69-488a-c513-30b54b05fe55"
      },
      "execution_count": 12,
      "outputs": [
        {
          "output_type": "execute_result",
          "data": {
            "text/plain": [
              "<tf.Tensor: shape=(4,), dtype=int32, numpy=array([-1, -1, -1, -1], dtype=int32)>"
            ]
          },
          "metadata": {},
          "execution_count": 12
        }
      ]
    },
    {
      "cell_type": "markdown",
      "source": [
        "# **subtract tf constant tensor with scaler**"
      ],
      "metadata": {
        "id": "3v6cAqEGVn8B"
      }
    },
    {
      "cell_type": "code",
      "source": [
        "tf_ct1=tf.constant([1,2,3,4])\n",
        "tf_ct2=tf.constant([2])\n",
        "tf.subtract(tf_ct1,tf_ct2)"
      ],
      "metadata": {
        "colab": {
          "base_uri": "https://localhost:8080/"
        },
        "id": "nlr2M6I6Vzxt",
        "outputId": "480a18ec-ea6c-49f8-80e0-441090ce841b"
      },
      "execution_count": 13,
      "outputs": [
        {
          "output_type": "execute_result",
          "data": {
            "text/plain": [
              "<tf.Tensor: shape=(4,), dtype=int32, numpy=array([-1,  0,  1,  2], dtype=int32)>"
            ]
          },
          "metadata": {},
          "execution_count": 13
        }
      ]
    },
    {
      "cell_type": "markdown",
      "source": [
        "# **subtract 2 tf variable**"
      ],
      "metadata": {
        "id": "tDuKRW_7Wchz"
      }
    },
    {
      "cell_type": "code",
      "source": [
        "tf_vr1=tf.Variable([1,2,3,4])\n",
        "tf_vr2=tf.Variable([2,3,4,5])\n",
        "tf.subtract(tf_vr1,tf_vr2)"
      ],
      "metadata": {
        "colab": {
          "base_uri": "https://localhost:8080/"
        },
        "id": "0B3zEbpeWiIa",
        "outputId": "5a23ff5c-0222-4506-eabc-c617884f3e63"
      },
      "execution_count": 14,
      "outputs": [
        {
          "output_type": "execute_result",
          "data": {
            "text/plain": [
              "<tf.Tensor: shape=(4,), dtype=int32, numpy=array([-1, -1, -1, -1], dtype=int32)>"
            ]
          },
          "metadata": {},
          "execution_count": 14
        }
      ]
    },
    {
      "cell_type": "markdown",
      "source": [
        "# **subtract tf variable with scaler**"
      ],
      "metadata": {
        "id": "Sn5tGY3UWwbE"
      }
    },
    {
      "cell_type": "code",
      "source": [
        "tf_vr1=tf.Variable([1,2,3,4])\n",
        "tf_vr2=tf.Variable([2])\n",
        "tf.subtract(tf_vr1,tf_vr2)"
      ],
      "metadata": {
        "colab": {
          "base_uri": "https://localhost:8080/"
        },
        "id": "fmYAOAlNW3iw",
        "outputId": "474cb53b-e788-4e65-e8e8-a63558ddcebd"
      },
      "execution_count": 15,
      "outputs": [
        {
          "output_type": "execute_result",
          "data": {
            "text/plain": [
              "<tf.Tensor: shape=(4,), dtype=int32, numpy=array([-1,  0,  1,  2], dtype=int32)>"
            ]
          },
          "metadata": {},
          "execution_count": 15
        }
      ]
    }
  ]
}